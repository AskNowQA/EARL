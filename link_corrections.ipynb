{
 "cells": [
  {
   "cell_type": "code",
   "execution_count": 1,
   "metadata": {
    "collapsed": true
   },
   "outputs": [],
   "source": [
    "import json"
   ]
  },
  {
   "cell_type": "code",
   "execution_count": 10,
   "metadata": {},
   "outputs": [
    {
     "name": "stdout",
     "output_type": "stream",
     "text": [
      "What was the language of the single which came before To Know Him Is to Love Him?\n",
      "\n",
      "PREDICATE MAPPING:\n",
      "URI: http://dbpedia.org/ontology/previousWork\n",
      "label: before\n",
      "sequence: 47,52\n",
      "mapping: before\n",
      "\n",
      "\n",
      "URI: http://dbpedia.org/property/language\n",
      "label: language\n",
      "sequence: 13,20\n",
      "mapping: language\n",
      "\n",
      "\n",
      "\n",
      "ENTITY MAPPING:\n",
      "URI: http://dbpedia.org/resource/To_Know_Him_Is_to_Love_Him\n",
      "label: love know\n",
      "sequence: 57,65\n",
      "mapping: Know Him \n",
      "\n",
      "\n"
     ]
    }
   ],
   "source": [
    "with open(\"./linked.json\") as json_data:\n",
    "    d = json.load(json_data)\n",
    "    item = d[160]\n",
    "    q = item['question']\n",
    "    p_map = item['predicate mapping']\n",
    "    e_map = item['entity mapping']\n",
    "    print(q)\n",
    "    print(\"\\nPREDICATE MAPPING:\")\n",
    "    for p in p_map:\n",
    "        print('URI: %s' % p['uri'])\n",
    "        print('label: %s' % p['label'])\n",
    "        seq = p['seq']\n",
    "        start, end = map(int, seq.split(','))\n",
    "        print('sequence: {0},{1}'.format(start, end))\n",
    "        print('mapping: %s' % q[start:end + 1])\n",
    "        print('\\n')\n",
    "    print('\\nENTITY MAPPING:')\n",
    "    for e in e_map:\n",
    "        print('URI: %s' % e['uri'])\n",
    "        print('label: %s' % e['label'])\n",
    "        seq = e['seq']\n",
    "        start, end = map(int, seq.split(','))\n",
    "        print('sequence: {0},{1}'.format(start, end))\n",
    "        print('mapping: %s' % q[start:end + 1])\n",
    "        print('\\n')"
   ]
  },
  {
   "cell_type": "code",
   "execution_count": 11,
   "metadata": {},
   "outputs": [
    {
     "name": "stdout",
     "output_type": "stream",
     "text": [
      "54,79\n",
      "mapping: To Know Him Is to Love Him\n"
     ]
    }
   ],
   "source": [
    "s = \"To Know Him Is to Love Him\"\n",
    "st = q.find(s)\n",
    "en = st + len(s) - 1\n",
    "print('{0},{1}'.format(st, en))\n",
    "print('mapping: %s' % q[st:en + 1])"
   ]
  },
  {
   "cell_type": "code",
   "execution_count": 77,
   "metadata": {},
   "outputs": [
    {
     "name": "stdout",
     "output_type": "stream",
     "text": [
      "airtours\n"
     ]
    }
   ],
   "source": [
    "print(q[44:52])"
   ]
  }
 ],
 "metadata": {
  "kernelspec": {
   "display_name": "Python 3",
   "language": "python",
   "name": "python3"
  },
  "language_info": {
   "codemirror_mode": {
    "name": "ipython",
    "version": 3
   },
   "file_extension": ".py",
   "mimetype": "text/x-python",
   "name": "python",
   "nbconvert_exporter": "python",
   "pygments_lexer": "ipython3",
   "version": "3.6.1"
  }
 },
 "nbformat": 4,
 "nbformat_minor": 2
}
