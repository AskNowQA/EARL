{
 "cells": [
  {
   "cell_type": "code",
   "execution_count": 1,
   "metadata": {
    "collapsed": true
   },
   "outputs": [],
   "source": [
    "import json"
   ]
  },
  {
   "cell_type": "code",
   "execution_count": 67,
   "metadata": {},
   "outputs": [
    {
     "name": "stdout",
     "output_type": "stream",
     "text": [
      "Name some shows whose company is owned by the CBS Corporation?\n",
      "\n",
      "PREDICATE MAPPING:\n",
      "URI: http://dbpedia.org/ontology/owner\n",
      "label: owned\n",
      "sequence: 33,37\n",
      "mapping: owned\n",
      "\n",
      "\n",
      "URI: http://dbpedia.org/property/company\n",
      "label: company\n",
      "sequence: 22,28\n",
      "mapping: company\n",
      "\n",
      "\n",
      "URI: http://dbpedia.org/ontology/TelevisionShow\n",
      "label: shows\n",
      "sequence: 10,14\n",
      "mapping: shows\n",
      "\n",
      "\n",
      "\n",
      "ENTITY MAPPING:\n",
      "URI: http://dbpedia.org/resource/CBS_Corporation\n",
      "label: corporation\n",
      "sequence: 50,60\n",
      "mapping: Corporation\n",
      "\n",
      "\n"
     ]
    }
   ],
   "source": [
    "with open(\"./linked.json\") as json_data:\n",
    "    d = json.load(json_data)\n",
    "    item = d[150]\n",
    "    q = item['question']\n",
    "    p_map = item['predicate mapping']\n",
    "    e_map = item['entity mapping']\n",
    "    print(q)\n",
    "    print(\"\\nPREDICATE MAPPING:\")\n",
    "    for p in p_map:\n",
    "        print('URI: %s' % p['uri'])\n",
    "        print('label: %s' % p['label'])\n",
    "        seq = p['seq']\n",
    "        start, end = map(int, seq.split(','))\n",
    "        print('sequence: {0},{1}'.format(start, end))\n",
    "        print('mapping: %s' % q[start:end + 1])\n",
    "        print('\\n')\n",
    "    print('\\nENTITY MAPPING:')\n",
    "    for e in e_map:\n",
    "        print('URI: %s' % e['uri'])\n",
    "        print('label: %s' % e['label'])\n",
    "        seq = e['seq']\n",
    "        start, end = map(int, seq.split(','))\n",
    "        print('sequence: {0},{1}'.format(start, end))\n",
    "        print('mapping: %s' % q[start:end + 1])\n",
    "        print('\\n')"
   ]
  },
  {
   "cell_type": "code",
   "execution_count": 68,
   "metadata": {},
   "outputs": [
    {
     "name": "stdout",
     "output_type": "stream",
     "text": [
      "46,60\n",
      "mapping: CBS Corporation\n"
     ]
    }
   ],
   "source": [
    "s = \"CBS Corporation\"\n",
    "st = q.find(s)\n",
    "en = st + len(s) - 1\n",
    "print('{0},{1}'.format(st, en))\n",
    "print('mapping: %s' % q[st:en + 1])"
   ]
  },
  {
   "cell_type": "code",
   "execution_count": 77,
   "metadata": {},
   "outputs": [
    {
     "name": "stdout",
     "output_type": "stream",
     "text": [
      "airtours\n"
     ]
    }
   ],
   "source": [
    "print(q[44:52])"
   ]
  }
 ],
 "metadata": {
  "kernelspec": {
   "display_name": "Python 3",
   "language": "python",
   "name": "python3"
  },
  "language_info": {
   "codemirror_mode": {
    "name": "ipython",
    "version": 3
   },
   "file_extension": ".py",
   "mimetype": "text/x-python",
   "name": "python",
   "nbconvert_exporter": "python",
   "pygments_lexer": "ipython3",
   "version": "3.6.1"
  }
 },
 "nbformat": 4,
 "nbformat_minor": 2
}
